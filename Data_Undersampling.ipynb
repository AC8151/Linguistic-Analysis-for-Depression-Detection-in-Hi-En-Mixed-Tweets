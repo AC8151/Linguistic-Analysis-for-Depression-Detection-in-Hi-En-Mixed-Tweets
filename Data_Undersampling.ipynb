{
  "nbformat": 4,
  "nbformat_minor": 0,
  "metadata": {
    "colab": {
      "name": "Data Undersampling.ipynb",
      "provenance": [],
      "collapsed_sections": []
    },
    "kernelspec": {
      "name": "python3",
      "display_name": "Python 3"
    },
    "language_info": {
      "name": "python"
    }
  },
  "cells": [
    {
      "cell_type": "markdown",
      "metadata": {
        "id": "t3c5vnkwBozy"
      },
      "source": [
        "# Undersample the Dataset"
      ]
    },
    {
      "cell_type": "code",
      "metadata": {
        "id": "oqavPqCXqolZ"
      },
      "source": [
        "import pandas as pd\n",
        "import numpy as np"
      ],
      "execution_count": null,
      "outputs": []
    },
    {
      "cell_type": "code",
      "metadata": {
        "colab": {
          "base_uri": "https://localhost:8080/",
          "height": 204
        },
        "id": "wmTqrBFareqJ",
        "outputId": "32d7873b-49c8-403a-feba-38a8c7d286ff"
      },
      "source": [
        "df=pd.read_csv(r'Depression_Tweet_Preprocessed.csv')\n",
        "df.head()"
      ],
      "execution_count": null,
      "outputs": [
        {
          "output_type": "execute_result",
          "data": {
            "text/html": [
              "<div>\n",
              "<style scoped>\n",
              "    .dataframe tbody tr th:only-of-type {\n",
              "        vertical-align: middle;\n",
              "    }\n",
              "\n",
              "    .dataframe tbody tr th {\n",
              "        vertical-align: top;\n",
              "    }\n",
              "\n",
              "    .dataframe thead th {\n",
              "        text-align: right;\n",
              "    }\n",
              "</style>\n",
              "<table border=\"1\" class=\"dataframe\">\n",
              "  <thead>\n",
              "    <tr style=\"text-align: right;\">\n",
              "      <th></th>\n",
              "      <th>TID</th>\n",
              "      <th>TWEET</th>\n",
              "      <th>LABEL</th>\n",
              "    </tr>\n",
              "  </thead>\n",
              "  <tbody>\n",
              "    <tr>\n",
              "      <th>0</th>\n",
              "      <td>250</td>\n",
              "      <td>awesom week</td>\n",
              "      <td>1</td>\n",
              "    </tr>\n",
              "    <tr>\n",
              "      <th>1</th>\n",
              "      <td>95</td>\n",
              "      <td>end jona amaz aw yep dat tear kinda awesom nic...</td>\n",
              "      <td>1</td>\n",
              "    </tr>\n",
              "    <tr>\n",
              "      <th>2</th>\n",
              "      <td>554</td>\n",
              "      <td>blog pretti lame stori unreleas bike seat tip ...</td>\n",
              "      <td>1</td>\n",
              "    </tr>\n",
              "    <tr>\n",
              "      <th>3</th>\n",
              "      <td>766</td>\n",
              "      <td>tweet fun cruis vibe insha allah ighalofc stan...</td>\n",
              "      <td>1</td>\n",
              "    </tr>\n",
              "    <tr>\n",
              "      <th>4</th>\n",
              "      <td>617</td>\n",
              "      <td>find interest vespa count motorcycl maryland f...</td>\n",
              "      <td>1</td>\n",
              "    </tr>\n",
              "  </tbody>\n",
              "</table>\n",
              "</div>"
            ],
            "text/plain": [
              "   TID                                              TWEET  LABEL\n",
              "0  250                                        awesom week      1\n",
              "1   95  end jona amaz aw yep dat tear kinda awesom nic...      1\n",
              "2  554  blog pretti lame stori unreleas bike seat tip ...      1\n",
              "3  766  tweet fun cruis vibe insha allah ighalofc stan...      1\n",
              "4  617  find interest vespa count motorcycl maryland f...      1"
            ]
          },
          "metadata": {
            "tags": []
          },
          "execution_count": 6
        }
      ]
    },
    {
      "cell_type": "code",
      "metadata": {
        "id": "MD_oYqOOxOmc",
        "colab": {
          "base_uri": "https://localhost:8080/"
        },
        "outputId": "6419e296-230c-4521-c66c-5d92e92aa5fc"
      },
      "source": [
        "df.LABEL.value_counts() # greatly imbalanced  as label 1 has twice as many values as label 0"
      ],
      "execution_count": null,
      "outputs": [
        {
          "output_type": "execute_result",
          "data": {
            "text/plain": [
              "1    409\n",
              "0    260\n",
              "Name: LABEL, dtype: int64"
            ]
          },
          "metadata": {
            "tags": []
          },
          "execution_count": 7
        }
      ]
    },
    {
      "cell_type": "code",
      "metadata": {
        "id": "FhP7CqMNwWDw",
        "colab": {
          "base_uri": "https://localhost:8080/"
        },
        "outputId": "f2a65f4e-6c07-4fab-935d-8aad56999eb2"
      },
      "source": [
        "# undersample label 1 (reduce data to match label 0)\n",
        "from sklearn.utils import resample\n",
        "\n",
        "df_majority = df[df['LABEL']==1]\n",
        "df_minority = df[df['LABEL']==0]\n",
        "\n",
        " \n",
        "# Downsample majority class\n",
        "df_majority_downsampled = resample(df_majority, \n",
        "                                 replace=False,    # sample without replacement\n",
        "                                 n_samples=260,     # to match minority class\n",
        "                                 random_state=123) # reproducible results\n",
        " \n",
        "# Combine minority class with downsampled majority class\n",
        "df = pd.concat([df_majority_downsampled, df_minority])\n",
        " \n",
        "# Display new class counts\n",
        "df.LABEL.value_counts()\n",
        "# 260    260"
      ],
      "execution_count": null,
      "outputs": [
        {
          "output_type": "execute_result",
          "data": {
            "text/plain": [
              "1    260\n",
              "0    260\n",
              "Name: LABEL, dtype: int64"
            ]
          },
          "metadata": {
            "tags": []
          },
          "execution_count": 8
        }
      ]
    },
    {
      "cell_type": "code",
      "metadata": {
        "id": "S988HXHz0QeN",
        "colab": {
          "base_uri": "https://localhost:8080/",
          "height": 419
        },
        "outputId": "968c5a74-a52b-491e-92e6-01125807d3d6"
      },
      "source": [
        "df"
      ],
      "execution_count": null,
      "outputs": [
        {
          "output_type": "execute_result",
          "data": {
            "text/html": [
              "<div>\n",
              "<style scoped>\n",
              "    .dataframe tbody tr th:only-of-type {\n",
              "        vertical-align: middle;\n",
              "    }\n",
              "\n",
              "    .dataframe tbody tr th {\n",
              "        vertical-align: top;\n",
              "    }\n",
              "\n",
              "    .dataframe thead th {\n",
              "        text-align: right;\n",
              "    }\n",
              "</style>\n",
              "<table border=\"1\" class=\"dataframe\">\n",
              "  <thead>\n",
              "    <tr style=\"text-align: right;\">\n",
              "      <th></th>\n",
              "      <th>TID</th>\n",
              "      <th>TWEET</th>\n",
              "      <th>LABEL</th>\n",
              "    </tr>\n",
              "  </thead>\n",
              "  <tbody>\n",
              "    <tr>\n",
              "      <th>23</th>\n",
              "      <td>206</td>\n",
              "      <td>happi coz hme haha im excit sunday</td>\n",
              "      <td>1</td>\n",
              "    </tr>\n",
              "    <tr>\n",
              "      <th>43</th>\n",
              "      <td>953</td>\n",
              "      <td>happi sox today</td>\n",
              "      <td>1</td>\n",
              "    </tr>\n",
              "    <tr>\n",
              "      <th>166</th>\n",
              "      <td>558</td>\n",
              "      <td>im happi content</td>\n",
              "      <td>1</td>\n",
              "    </tr>\n",
              "    <tr>\n",
              "      <th>282</th>\n",
              "      <td>540</td>\n",
              "      <td>gonna happi tonight cost kurt hinder ï ½</td>\n",
              "      <td>1</td>\n",
              "    </tr>\n",
              "    <tr>\n",
              "      <th>461</th>\n",
              "      <td>515</td>\n",
              "      <td>tech chang farm awesom</td>\n",
              "      <td>1</td>\n",
              "    </tr>\n",
              "    <tr>\n",
              "      <th>...</th>\n",
              "      <td>...</td>\n",
              "      <td>...</td>\n",
              "      <td>...</td>\n",
              "    </tr>\n",
              "    <tr>\n",
              "      <th>652</th>\n",
              "      <td>15</td>\n",
              "      <td>depress real joke smile fight</td>\n",
              "      <td>0</td>\n",
              "    </tr>\n",
              "    <tr>\n",
              "      <th>653</th>\n",
              "      <td>919</td>\n",
              "      <td>depress commit suicid mentalhealth exist disea...</td>\n",
              "      <td>0</td>\n",
              "    </tr>\n",
              "    <tr>\n",
              "      <th>654</th>\n",
              "      <td>818</td>\n",
              "      <td>world fuck im world kill hope dream ambit enjo...</td>\n",
              "      <td>0</td>\n",
              "    </tr>\n",
              "    <tr>\n",
              "      <th>665</th>\n",
              "      <td>255</td>\n",
              "      <td>sad wors happi depress dehuman tire emot exper...</td>\n",
              "      <td>0</td>\n",
              "    </tr>\n",
              "    <tr>\n",
              "      <th>666</th>\n",
              "      <td>636</td>\n",
              "      <td>hug simpli meant alot sad depress</td>\n",
              "      <td>0</td>\n",
              "    </tr>\n",
              "  </tbody>\n",
              "</table>\n",
              "<p>520 rows × 3 columns</p>\n",
              "</div>"
            ],
            "text/plain": [
              "     TID                                              TWEET  LABEL\n",
              "23   206                 happi coz hme haha im excit sunday      1\n",
              "43   953                                    happi sox today      1\n",
              "166  558                                   im happi content      1\n",
              "282  540           gonna happi tonight cost kurt hinder ï ½      1\n",
              "461  515                             tech chang farm awesom      1\n",
              "..   ...                                                ...    ...\n",
              "652   15                      depress real joke smile fight      0\n",
              "653  919  depress commit suicid mentalhealth exist disea...      0\n",
              "654  818  world fuck im world kill hope dream ambit enjo...      0\n",
              "665  255  sad wors happi depress dehuman tire emot exper...      0\n",
              "666  636                  hug simpli meant alot sad depress      0\n",
              "\n",
              "[520 rows x 3 columns]"
            ]
          },
          "metadata": {
            "tags": []
          },
          "execution_count": 9
        }
      ]
    },
    {
      "cell_type": "code",
      "metadata": {
        "id": "2QkiW2QI0M8w",
        "colab": {
          "base_uri": "https://localhost:8080/",
          "height": 419
        },
        "outputId": "95e62462-5930-45fe-ca58-3c220f118baa"
      },
      "source": [
        "# reshuffle the data\n",
        "\n",
        "df = df.sample(frac = 1)\n",
        "df"
      ],
      "execution_count": null,
      "outputs": [
        {
          "output_type": "execute_result",
          "data": {
            "text/html": [
              "<div>\n",
              "<style scoped>\n",
              "    .dataframe tbody tr th:only-of-type {\n",
              "        vertical-align: middle;\n",
              "    }\n",
              "\n",
              "    .dataframe tbody tr th {\n",
              "        vertical-align: top;\n",
              "    }\n",
              "\n",
              "    .dataframe thead th {\n",
              "        text-align: right;\n",
              "    }\n",
              "</style>\n",
              "<table border=\"1\" class=\"dataframe\">\n",
              "  <thead>\n",
              "    <tr style=\"text-align: right;\">\n",
              "      <th></th>\n",
              "      <th>TID</th>\n",
              "      <th>TWEET</th>\n",
              "      <th>LABEL</th>\n",
              "    </tr>\n",
              "  </thead>\n",
              "  <tbody>\n",
              "    <tr>\n",
              "      <th>424</th>\n",
              "      <td>612</td>\n",
              "      <td>ich find niemand ist normal bzw gehört der nor...</td>\n",
              "      <td>0</td>\n",
              "    </tr>\n",
              "    <tr>\n",
              "      <th>8</th>\n",
              "      <td>995</td>\n",
              "      <td>amo summer depress</td>\n",
              "      <td>0</td>\n",
              "    </tr>\n",
              "    <tr>\n",
              "      <th>260</th>\n",
              "      <td>645</td>\n",
              "      <td>bore work esp disney yesterday amaz wait weeke...</td>\n",
              "      <td>0</td>\n",
              "    </tr>\n",
              "    <tr>\n",
              "      <th>633</th>\n",
              "      <td>269</td>\n",
              "      <td>wallyworld today awesom time kewl easter baske...</td>\n",
              "      <td>1</td>\n",
              "    </tr>\n",
              "    <tr>\n",
              "      <th>139</th>\n",
              "      <td>151</td>\n",
              "      <td>cassad hope awesom time tour</td>\n",
              "      <td>0</td>\n",
              "    </tr>\n",
              "    <tr>\n",
              "      <th>...</th>\n",
              "      <td>...</td>\n",
              "      <td>...</td>\n",
              "      <td>...</td>\n",
              "    </tr>\n",
              "    <tr>\n",
              "      <th>37</th>\n",
              "      <td>195</td>\n",
              "      <td>day depress kick drag hole loneli sad</td>\n",
              "      <td>0</td>\n",
              "    </tr>\n",
              "    <tr>\n",
              "      <th>364</th>\n",
              "      <td>38</td>\n",
              "      <td>disclos mental ill report diagnosi bipolar dep...</td>\n",
              "      <td>0</td>\n",
              "    </tr>\n",
              "    <tr>\n",
              "      <th>40</th>\n",
              "      <td>345</td>\n",
              "      <td>u awesom</td>\n",
              "      <td>1</td>\n",
              "    </tr>\n",
              "    <tr>\n",
              "      <th>136</th>\n",
              "      <td>296</td>\n",
              "      <td>cours dark side lifestyl dj stress anxieti mak...</td>\n",
              "      <td>0</td>\n",
              "    </tr>\n",
              "    <tr>\n",
              "      <th>523</th>\n",
              "      <td>157</td>\n",
              "      <td>depress cluster differ similar mentalhealth</td>\n",
              "      <td>0</td>\n",
              "    </tr>\n",
              "  </tbody>\n",
              "</table>\n",
              "<p>520 rows × 3 columns</p>\n",
              "</div>"
            ],
            "text/plain": [
              "     TID                                              TWEET  LABEL\n",
              "424  612  ich find niemand ist normal bzw gehört der nor...      0\n",
              "8    995                                 amo summer depress      0\n",
              "260  645  bore work esp disney yesterday amaz wait weeke...      0\n",
              "633  269  wallyworld today awesom time kewl easter baske...      1\n",
              "139  151                       cassad hope awesom time tour      0\n",
              "..   ...                                                ...    ...\n",
              "37   195              day depress kick drag hole loneli sad      0\n",
              "364   38  disclos mental ill report diagnosi bipolar dep...      0\n",
              "40   345                                           u awesom      1\n",
              "136  296  cours dark side lifestyl dj stress anxieti mak...      0\n",
              "523  157        depress cluster differ similar mentalhealth      0\n",
              "\n",
              "[520 rows x 3 columns]"
            ]
          },
          "metadata": {
            "tags": []
          },
          "execution_count": 10
        }
      ]
    },
    {
      "cell_type": "code",
      "metadata": {
        "id": "yS6sdwRByyB5"
      },
      "source": [
        "df.to_csv('Depression_Tweet_Dataset.csv', index=False)"
      ],
      "execution_count": null,
      "outputs": []
    },
    {
      "cell_type": "code",
      "metadata": {
        "id": "bQBRv46Frf5L"
      },
      "source": [
        ""
      ],
      "execution_count": null,
      "outputs": []
    }
  ]
}