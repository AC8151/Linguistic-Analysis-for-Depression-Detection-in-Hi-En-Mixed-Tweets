{
  "nbformat": 4,
  "nbformat_minor": 0,
  "metadata": {
    "colab": {
      "name": "Depression Classifier and Evaluation.ipynb",
      "provenance": [],
      "collapsed_sections": []
    },
    "kernelspec": {
      "name": "python3",
      "display_name": "Python 3"
    },
    "language_info": {
      "name": "python"
    }
  },
  "cells": [
    {
      "cell_type": "markdown",
      "metadata": {
        "id": "7b5prktZFkoP"
      },
      "source": [
        "# Applying Multinomial Naive Bayes "
      ]
    },
    {
      "cell_type": "code",
      "metadata": {
        "id": "0VU8KYdT7nK0"
      },
      "source": [
        "import pandas as pd\n",
        "import numpy as np\n",
        "\n",
        "from sklearn.pipeline import Pipeline\n",
        "from sklearn.naive_bayes import MultinomialNB\n",
        "from sklearn.feature_extraction.text import CountVectorizer, TfidfTransformer\n",
        "from sklearn.model_selection import train_test_split, GridSearchCV\n",
        "\n",
        "from sklearn.metrics import classification_report\n",
        "from sklearn import metrics\n",
        "from sklearn.metrics import confusion_matrix\n",
        "\n",
        "from PIL import Image\n",
        "import matplotlib.pyplot as plt\n",
        "import seaborn as sns\n",
        "from sklearn.metrics import roc_curve\n",
        "from sklearn.metrics import roc_auc_score\n",
        "from sklearn.metrics import precision_recall_curve\n",
        "from sklearn.metrics import plot_precision_recall_curve\n",
        "import matplotlib.pyplot as plt\n",
        "from sklearn.metrics import average_precision_score\n"
      ],
      "execution_count": null,
      "outputs": []
    },
    {
      "cell_type": "code",
      "metadata": {
        "colab": {
          "base_uri": "https://localhost:8080/",
          "height": 669
        },
        "id": "g9I4CD0xyloX",
        "outputId": "ad0335b8-39dd-4448-9f1a-fa9decd72e0e"
      },
      "source": [
        "df=pd.read_csv(r'Depression_Tweet_Dataset.csv')\n",
        "df.head(20)"
      ],
      "execution_count": null,
      "outputs": [
        {
          "output_type": "execute_result",
          "data": {
            "text/html": [
              "<div>\n",
              "<style scoped>\n",
              "    .dataframe tbody tr th:only-of-type {\n",
              "        vertical-align: middle;\n",
              "    }\n",
              "\n",
              "    .dataframe tbody tr th {\n",
              "        vertical-align: top;\n",
              "    }\n",
              "\n",
              "    .dataframe thead th {\n",
              "        text-align: right;\n",
              "    }\n",
              "</style>\n",
              "<table border=\"1\" class=\"dataframe\">\n",
              "  <thead>\n",
              "    <tr style=\"text-align: right;\">\n",
              "      <th></th>\n",
              "      <th>TID</th>\n",
              "      <th>TWEET</th>\n",
              "      <th>LABEL</th>\n",
              "    </tr>\n",
              "  </thead>\n",
              "  <tbody>\n",
              "    <tr>\n",
              "      <th>0</th>\n",
              "      <td>189</td>\n",
              "      <td>worri mind im happi u meet</td>\n",
              "      <td>1</td>\n",
              "    </tr>\n",
              "    <tr>\n",
              "      <th>1</th>\n",
              "      <td>480</td>\n",
              "      <td>stay till selen friend bday awesom</td>\n",
              "      <td>1</td>\n",
              "    </tr>\n",
              "    <tr>\n",
              "      <th>2</th>\n",
              "      <td>230</td>\n",
              "      <td>im awesom suspect</td>\n",
              "      <td>1</td>\n",
              "    </tr>\n",
              "    <tr>\n",
              "      <th>3</th>\n",
              "      <td>37</td>\n",
              "      <td>long nap make happi</td>\n",
              "      <td>1</td>\n",
              "    </tr>\n",
              "    <tr>\n",
              "      <th>4</th>\n",
              "      <td>394</td>\n",
              "      <td>luck depress real stuck insid head pay attent ...</td>\n",
              "      <td>1</td>\n",
              "    </tr>\n",
              "    <tr>\n",
              "      <th>5</th>\n",
              "      <td>376</td>\n",
              "      <td>hey homi happi birthday massiv</td>\n",
              "      <td>1</td>\n",
              "    </tr>\n",
              "    <tr>\n",
              "      <th>6</th>\n",
              "      <td>434</td>\n",
              "      <td>danc cat depress isol covid pandem struggl sto...</td>\n",
              "      <td>0</td>\n",
              "    </tr>\n",
              "    <tr>\n",
              "      <th>7</th>\n",
              "      <td>152</td>\n",
              "      <td>parent r happi rest famili wonder memi folk r ...</td>\n",
              "      <td>1</td>\n",
              "    </tr>\n",
              "    <tr>\n",
              "      <th>8</th>\n",
              "      <td>760</td>\n",
              "      <td>girl work pull bibl breakroom convers heart sm...</td>\n",
              "      <td>1</td>\n",
              "    </tr>\n",
              "    <tr>\n",
              "      <th>9</th>\n",
              "      <td>647</td>\n",
              "      <td>bias day follow favourit person blindli truth ...</td>\n",
              "      <td>0</td>\n",
              "    </tr>\n",
              "    <tr>\n",
              "      <th>10</th>\n",
              "      <td>577</td>\n",
              "      <td>ini foto pertama win yg gue simpen smile soooo...</td>\n",
              "      <td>0</td>\n",
              "    </tr>\n",
              "    <tr>\n",
              "      <th>11</th>\n",
              "      <td>521</td>\n",
              "      <td>happi sunday tweepl live dream make day count ...</td>\n",
              "      <td>1</td>\n",
              "    </tr>\n",
              "    <tr>\n",
              "      <th>12</th>\n",
              "      <td>558</td>\n",
              "      <td>acredito meu verão vai ser isto wonder depress</td>\n",
              "      <td>0</td>\n",
              "    </tr>\n",
              "    <tr>\n",
              "      <th>13</th>\n",
              "      <td>531</td>\n",
              "      <td>watch dad die doubl pneumonia lung sclerosi de...</td>\n",
              "      <td>0</td>\n",
              "    </tr>\n",
              "    <tr>\n",
              "      <th>14</th>\n",
              "      <td>589</td>\n",
              "      <td>technic speak antidepress tend make diagnos de...</td>\n",
              "      <td>0</td>\n",
              "    </tr>\n",
              "    <tr>\n",
              "      <th>15</th>\n",
              "      <td>904</td>\n",
              "      <td>heeyyy vote happi support kissess cute rain</td>\n",
              "      <td>1</td>\n",
              "    </tr>\n",
              "    <tr>\n",
              "      <th>16</th>\n",
              "      <td>494</td>\n",
              "      <td>degre child famili developmentni love work chi...</td>\n",
              "      <td>1</td>\n",
              "    </tr>\n",
              "    <tr>\n",
              "      <th>17</th>\n",
              "      <td>168</td>\n",
              "      <td>claim met happi content work depress hate deci...</td>\n",
              "      <td>1</td>\n",
              "    </tr>\n",
              "    <tr>\n",
              "      <th>18</th>\n",
              "      <td>123</td>\n",
              "      <td>truth hurt</td>\n",
              "      <td>0</td>\n",
              "    </tr>\n",
              "    <tr>\n",
              "      <th>19</th>\n",
              "      <td>623</td>\n",
              "      <td>found today fli hk againwee happi</td>\n",
              "      <td>1</td>\n",
              "    </tr>\n",
              "  </tbody>\n",
              "</table>\n",
              "</div>"
            ],
            "text/plain": [
              "    TID                                              TWEET  LABEL\n",
              "0   189                         worri mind im happi u meet      1\n",
              "1   480                 stay till selen friend bday awesom      1\n",
              "2   230                                  im awesom suspect      1\n",
              "3    37                                long nap make happi      1\n",
              "4   394  luck depress real stuck insid head pay attent ...      1\n",
              "5   376                     hey homi happi birthday massiv      1\n",
              "6   434  danc cat depress isol covid pandem struggl sto...      0\n",
              "7   152  parent r happi rest famili wonder memi folk r ...      1\n",
              "8   760  girl work pull bibl breakroom convers heart sm...      1\n",
              "9   647  bias day follow favourit person blindli truth ...      0\n",
              "10  577  ini foto pertama win yg gue simpen smile soooo...      0\n",
              "11  521  happi sunday tweepl live dream make day count ...      1\n",
              "12  558     acredito meu verão vai ser isto wonder depress      0\n",
              "13  531  watch dad die doubl pneumonia lung sclerosi de...      0\n",
              "14  589  technic speak antidepress tend make diagnos de...      0\n",
              "15  904        heeyyy vote happi support kissess cute rain      1\n",
              "16  494  degre child famili developmentni love work chi...      1\n",
              "17  168  claim met happi content work depress hate deci...      1\n",
              "18  123                                         truth hurt      0\n",
              "19  623                  found today fli hk againwee happi      1"
            ]
          },
          "metadata": {
            "tags": []
          },
          "execution_count": 9
        }
      ]
    },
    {
      "cell_type": "markdown",
      "metadata": {
        "id": "RU03oiHzGD8r"
      },
      "source": [
        "### Creating the Classifier with Hyper Parameters\n",
        "> Hyper parameters are used to tune the model by running an exhaustive grid search and choosing the best parameters for improving the model accuracy."
      ]
    },
    {
      "cell_type": "code",
      "metadata": {
        "id": "wshOYpi0z35y"
      },
      "source": [
        "text_clf = Pipeline([('vect', CountVectorizer()),\n",
        "                     ('tfidf', TfidfTransformer()),\n",
        "                     ('clf', MultinomialNB())])\n",
        "\n",
        "tuned_parameters = {\n",
        "    'vect__ngram_range': [(1, 1), (1, 2), (2, 2)],\n",
        "    'tfidf__use_idf': (True, False),\n",
        "    'tfidf__norm': ('l1', 'l2'),\n",
        "    'clf__alpha': [1, 1e-1]\n",
        "}"
      ],
      "execution_count": null,
      "outputs": []
    },
    {
      "cell_type": "markdown",
      "metadata": {
        "id": "QiV30eW9TuvI"
      },
      "source": [
        "### Train-Test Split in Ratio 80:20"
      ]
    },
    {
      "cell_type": "code",
      "metadata": {
        "id": "0Xmoqbae0yYn"
      },
      "source": [
        "data=df['TWEET']\n",
        "labels=df['LABEL']\n",
        "x_train, x_test, y_train, y_test = train_test_split(data, labels, test_size=0.2, random_state=42)"
      ],
      "execution_count": null,
      "outputs": []
    },
    {
      "cell_type": "markdown",
      "metadata": {
        "id": "7ZijbtRrTzRd"
      },
      "source": [
        "### Train the Model and Generate Classification Report"
      ]
    },
    {
      "cell_type": "code",
      "metadata": {
        "colab": {
          "base_uri": "https://localhost:8080/"
        },
        "id": "0lFeF3W-08Pt",
        "outputId": "93a85334-cbb1-47d6-ce48-ec1d78557ad9"
      },
      "source": [
        "score = 'f1_macro'\n",
        "print(\"# Tuning hyper-parameters for %s\" % score)\n",
        "print()\n",
        "np.errstate(divide='ignore')\n",
        "clf = GridSearchCV(text_clf, tuned_parameters, cv=10, scoring=score)\n",
        "clf.fit(x_train, y_train)\n",
        "\n",
        "print(\"Best parameters set found for the model:\")\n",
        "print()\n",
        "print(clf.best_params_)\n",
        "print()\n",
        "print(\"Grid scores for development set:\")\n",
        "print()\n",
        "for mean, std, params in zip(clf.cv_results_['mean_test_score'], \n",
        "                             clf.cv_results_['std_test_score'], \n",
        "                             clf.cv_results_['params']):\n",
        "    print(\"%0.3f (+/-%0.03f) for %r\" % (mean, std * 2, params))\n",
        "print()\n",
        "\n",
        "print(\"Classification report:\")\n",
        "print()\n",
        "print(\"The model is trained on the full development set.\")\n",
        "print(\"The scores are computed on the full evaluation set.\")\n",
        "print()\n",
        "print(classification_report(y_test, clf.predict(x_test), digits=4))\n",
        "print()\n"
      ],
      "execution_count": null,
      "outputs": [
        {
          "output_type": "stream",
          "text": [
            "# Tuning hyper-parameters for f1_macro\n",
            "\n",
            "Best parameters set found for the model:\n",
            "\n",
            "{'clf__alpha': 1, 'tfidf__norm': 'l1', 'tfidf__use_idf': False, 'vect__ngram_range': (1, 2)}\n",
            "\n",
            "Grid scores for development set:\n",
            "\n",
            "0.881 (+/-0.107) for {'clf__alpha': 1, 'tfidf__norm': 'l1', 'tfidf__use_idf': True, 'vect__ngram_range': (1, 1)}\n",
            "0.883 (+/-0.109) for {'clf__alpha': 1, 'tfidf__norm': 'l1', 'tfidf__use_idf': True, 'vect__ngram_range': (1, 2)}\n",
            "0.667 (+/-0.181) for {'clf__alpha': 1, 'tfidf__norm': 'l1', 'tfidf__use_idf': True, 'vect__ngram_range': (2, 2)}\n",
            "0.923 (+/-0.068) for {'clf__alpha': 1, 'tfidf__norm': 'l1', 'tfidf__use_idf': False, 'vect__ngram_range': (1, 1)}\n",
            "0.927 (+/-0.076) for {'clf__alpha': 1, 'tfidf__norm': 'l1', 'tfidf__use_idf': False, 'vect__ngram_range': (1, 2)}\n",
            "0.667 (+/-0.181) for {'clf__alpha': 1, 'tfidf__norm': 'l1', 'tfidf__use_idf': False, 'vect__ngram_range': (2, 2)}\n",
            "0.871 (+/-0.089) for {'clf__alpha': 1, 'tfidf__norm': 'l2', 'tfidf__use_idf': True, 'vect__ngram_range': (1, 1)}\n",
            "0.879 (+/-0.094) for {'clf__alpha': 1, 'tfidf__norm': 'l2', 'tfidf__use_idf': True, 'vect__ngram_range': (1, 2)}\n",
            "0.661 (+/-0.182) for {'clf__alpha': 1, 'tfidf__norm': 'l2', 'tfidf__use_idf': True, 'vect__ngram_range': (2, 2)}\n",
            "0.913 (+/-0.072) for {'clf__alpha': 1, 'tfidf__norm': 'l2', 'tfidf__use_idf': False, 'vect__ngram_range': (1, 1)}\n",
            "0.920 (+/-0.069) for {'clf__alpha': 1, 'tfidf__norm': 'l2', 'tfidf__use_idf': False, 'vect__ngram_range': (1, 2)}\n",
            "0.661 (+/-0.182) for {'clf__alpha': 1, 'tfidf__norm': 'l2', 'tfidf__use_idf': False, 'vect__ngram_range': (2, 2)}\n",
            "0.840 (+/-0.105) for {'clf__alpha': 0.1, 'tfidf__norm': 'l1', 'tfidf__use_idf': True, 'vect__ngram_range': (1, 1)}\n",
            "0.872 (+/-0.104) for {'clf__alpha': 0.1, 'tfidf__norm': 'l1', 'tfidf__use_idf': True, 'vect__ngram_range': (1, 2)}\n",
            "0.665 (+/-0.168) for {'clf__alpha': 0.1, 'tfidf__norm': 'l1', 'tfidf__use_idf': True, 'vect__ngram_range': (2, 2)}\n",
            "0.903 (+/-0.069) for {'clf__alpha': 0.1, 'tfidf__norm': 'l1', 'tfidf__use_idf': False, 'vect__ngram_range': (1, 1)}\n",
            "0.911 (+/-0.065) for {'clf__alpha': 0.1, 'tfidf__norm': 'l1', 'tfidf__use_idf': False, 'vect__ngram_range': (1, 2)}\n",
            "0.662 (+/-0.175) for {'clf__alpha': 0.1, 'tfidf__norm': 'l1', 'tfidf__use_idf': False, 'vect__ngram_range': (2, 2)}\n",
            "0.823 (+/-0.110) for {'clf__alpha': 0.1, 'tfidf__norm': 'l2', 'tfidf__use_idf': True, 'vect__ngram_range': (1, 1)}\n",
            "0.841 (+/-0.115) for {'clf__alpha': 0.1, 'tfidf__norm': 'l2', 'tfidf__use_idf': True, 'vect__ngram_range': (1, 2)}\n",
            "0.662 (+/-0.171) for {'clf__alpha': 0.1, 'tfidf__norm': 'l2', 'tfidf__use_idf': True, 'vect__ngram_range': (2, 2)}\n",
            "0.882 (+/-0.099) for {'clf__alpha': 0.1, 'tfidf__norm': 'l2', 'tfidf__use_idf': False, 'vect__ngram_range': (1, 1)}\n",
            "0.896 (+/-0.090) for {'clf__alpha': 0.1, 'tfidf__norm': 'l2', 'tfidf__use_idf': False, 'vect__ngram_range': (1, 2)}\n",
            "0.662 (+/-0.171) for {'clf__alpha': 0.1, 'tfidf__norm': 'l2', 'tfidf__use_idf': False, 'vect__ngram_range': (2, 2)}\n",
            "\n",
            "Classification report:\n",
            "\n",
            "The model is trained on the full development set.\n",
            "The scores are computed on the full evaluation set.\n",
            "\n",
            "              precision    recall  f1-score   support\n",
            "\n",
            "           0     0.9815    0.9464    0.9636        56\n",
            "           1     0.9400    0.9792    0.9592        48\n",
            "\n",
            "    accuracy                         0.9615       104\n",
            "   macro avg     0.9607    0.9628    0.9614       104\n",
            "weighted avg     0.9623    0.9615    0.9616       104\n",
            "\n",
            "\n"
          ],
          "name": "stdout"
        }
      ]
    },
    {
      "cell_type": "markdown",
      "metadata": {
        "id": "QfiZPgarT702"
      },
      "source": [
        "### Test the Model"
      ]
    },
    {
      "cell_type": "code",
      "metadata": {
        "colab": {
          "base_uri": "https://localhost:8080/",
          "height": 359
        },
        "id": "eY0Vgi3e0_Qu",
        "outputId": "37b8256c-7580-435b-fdfd-1d1ff86df716"
      },
      "source": [
        "y_pred = clf.predict(x_test)\n",
        "prediction = pd.DataFrame({'Tweets (Test)': [i for i in x_test], 'Label (Predicted)': [j for j in y_pred]})\n",
        "prediction.head(10)"
      ],
      "execution_count": null,
      "outputs": [
        {
          "output_type": "execute_result",
          "data": {
            "text/html": [
              "<div>\n",
              "<style scoped>\n",
              "    .dataframe tbody tr th:only-of-type {\n",
              "        vertical-align: middle;\n",
              "    }\n",
              "\n",
              "    .dataframe tbody tr th {\n",
              "        vertical-align: top;\n",
              "    }\n",
              "\n",
              "    .dataframe thead th {\n",
              "        text-align: right;\n",
              "    }\n",
              "</style>\n",
              "<table border=\"1\" class=\"dataframe\">\n",
              "  <thead>\n",
              "    <tr style=\"text-align: right;\">\n",
              "      <th></th>\n",
              "      <th>Tweets (Test)</th>\n",
              "      <th>Label (Predicted)</th>\n",
              "    </tr>\n",
              "  </thead>\n",
              "  <tbody>\n",
              "    <tr>\n",
              "      <th>0</th>\n",
              "      <td>brilliant love compass humor class awesom role...</td>\n",
              "      <td>1</td>\n",
              "    </tr>\n",
              "    <tr>\n",
              "      <th>1</th>\n",
              "      <td>feel justifi hear love matern photosso beauti ...</td>\n",
              "      <td>1</td>\n",
              "    </tr>\n",
              "    <tr>\n",
              "      <th>2</th>\n",
              "      <td>danc cat depress isol covid pandem struggl sto...</td>\n",
              "      <td>0</td>\n",
              "    </tr>\n",
              "    <tr>\n",
              "      <th>3</th>\n",
              "      <td>sound awesom hope your fun wait luck rest rehears</td>\n",
              "      <td>1</td>\n",
              "    </tr>\n",
              "    <tr>\n",
              "      <th>4</th>\n",
              "      <td>drop state depress opposit state rebuild peopl...</td>\n",
              "      <td>0</td>\n",
              "    </tr>\n",
              "    <tr>\n",
              "      <th>5</th>\n",
              "      <td>im happi cc liquid gold pump tonight itll flow...</td>\n",
              "      <td>1</td>\n",
              "    </tr>\n",
              "    <tr>\n",
              "      <th>6</th>\n",
              "      <td>told male colleagu id postpartum depress nah w...</td>\n",
              "      <td>0</td>\n",
              "    </tr>\n",
              "    <tr>\n",
              "      <th>7</th>\n",
              "      <td>fight depress easi uncontrol sad</td>\n",
              "      <td>0</td>\n",
              "    </tr>\n",
              "    <tr>\n",
              "      <th>8</th>\n",
              "      <td>grate great marriag awesom kid busi rock guess...</td>\n",
              "      <td>1</td>\n",
              "    </tr>\n",
              "    <tr>\n",
              "      <th>9</th>\n",
              "      <td>happi friday eve</td>\n",
              "      <td>1</td>\n",
              "    </tr>\n",
              "  </tbody>\n",
              "</table>\n",
              "</div>"
            ],
            "text/plain": [
              "                                       Tweets (Test)  Label (Predicted)\n",
              "0  brilliant love compass humor class awesom role...                  1\n",
              "1  feel justifi hear love matern photosso beauti ...                  1\n",
              "2  danc cat depress isol covid pandem struggl sto...                  0\n",
              "3  sound awesom hope your fun wait luck rest rehears                  1\n",
              "4  drop state depress opposit state rebuild peopl...                  0\n",
              "5  im happi cc liquid gold pump tonight itll flow...                  1\n",
              "6  told male colleagu id postpartum depress nah w...                  0\n",
              "7                   fight depress easi uncontrol sad                  0\n",
              "8  grate great marriag awesom kid busi rock guess...                  1\n",
              "9                                   happi friday eve                  1"
            ]
          },
          "metadata": {
            "tags": []
          },
          "execution_count": 13
        }
      ]
    },
    {
      "cell_type": "code",
      "metadata": {
        "colab": {
          "base_uri": "https://localhost:8080/",
          "height": 979
        },
        "id": "tEdCd_P-6qXD",
        "outputId": "579d14ed-1a1f-4bba-9437-5ce069363dbb"
      },
      "source": [
        "comparison = pd.DataFrame({'Actual Label': y_test, 'Predicted Label': y_pred})\n",
        "comparison.head(30)"
      ],
      "execution_count": null,
      "outputs": [
        {
          "output_type": "execute_result",
          "data": {
            "text/html": [
              "<div>\n",
              "<style scoped>\n",
              "    .dataframe tbody tr th:only-of-type {\n",
              "        vertical-align: middle;\n",
              "    }\n",
              "\n",
              "    .dataframe tbody tr th {\n",
              "        vertical-align: top;\n",
              "    }\n",
              "\n",
              "    .dataframe thead th {\n",
              "        text-align: right;\n",
              "    }\n",
              "</style>\n",
              "<table border=\"1\" class=\"dataframe\">\n",
              "  <thead>\n",
              "    <tr style=\"text-align: right;\">\n",
              "      <th></th>\n",
              "      <th>Actual Label</th>\n",
              "      <th>Predicted Label</th>\n",
              "    </tr>\n",
              "  </thead>\n",
              "  <tbody>\n",
              "    <tr>\n",
              "      <th>275</th>\n",
              "      <td>1</td>\n",
              "      <td>1</td>\n",
              "    </tr>\n",
              "    <tr>\n",
              "      <th>93</th>\n",
              "      <td>1</td>\n",
              "      <td>1</td>\n",
              "    </tr>\n",
              "    <tr>\n",
              "      <th>6</th>\n",
              "      <td>0</td>\n",
              "      <td>0</td>\n",
              "    </tr>\n",
              "    <tr>\n",
              "      <th>167</th>\n",
              "      <td>1</td>\n",
              "      <td>1</td>\n",
              "    </tr>\n",
              "    <tr>\n",
              "      <th>90</th>\n",
              "      <td>0</td>\n",
              "      <td>0</td>\n",
              "    </tr>\n",
              "    <tr>\n",
              "      <th>513</th>\n",
              "      <td>1</td>\n",
              "      <td>1</td>\n",
              "    </tr>\n",
              "    <tr>\n",
              "      <th>362</th>\n",
              "      <td>0</td>\n",
              "      <td>0</td>\n",
              "    </tr>\n",
              "    <tr>\n",
              "      <th>228</th>\n",
              "      <td>0</td>\n",
              "      <td>0</td>\n",
              "    </tr>\n",
              "    <tr>\n",
              "      <th>192</th>\n",
              "      <td>1</td>\n",
              "      <td>1</td>\n",
              "    </tr>\n",
              "    <tr>\n",
              "      <th>482</th>\n",
              "      <td>1</td>\n",
              "      <td>1</td>\n",
              "    </tr>\n",
              "    <tr>\n",
              "      <th>218</th>\n",
              "      <td>1</td>\n",
              "      <td>1</td>\n",
              "    </tr>\n",
              "    <tr>\n",
              "      <th>180</th>\n",
              "      <td>0</td>\n",
              "      <td>0</td>\n",
              "    </tr>\n",
              "    <tr>\n",
              "      <th>307</th>\n",
              "      <td>0</td>\n",
              "      <td>0</td>\n",
              "    </tr>\n",
              "    <tr>\n",
              "      <th>508</th>\n",
              "      <td>0</td>\n",
              "      <td>0</td>\n",
              "    </tr>\n",
              "    <tr>\n",
              "      <th>10</th>\n",
              "      <td>0</td>\n",
              "      <td>0</td>\n",
              "    </tr>\n",
              "    <tr>\n",
              "      <th>381</th>\n",
              "      <td>0</td>\n",
              "      <td>0</td>\n",
              "    </tr>\n",
              "    <tr>\n",
              "      <th>371</th>\n",
              "      <td>0</td>\n",
              "      <td>0</td>\n",
              "    </tr>\n",
              "    <tr>\n",
              "      <th>30</th>\n",
              "      <td>0</td>\n",
              "      <td>0</td>\n",
              "    </tr>\n",
              "    <tr>\n",
              "      <th>494</th>\n",
              "      <td>0</td>\n",
              "      <td>0</td>\n",
              "    </tr>\n",
              "    <tr>\n",
              "      <th>137</th>\n",
              "      <td>0</td>\n",
              "      <td>0</td>\n",
              "    </tr>\n",
              "    <tr>\n",
              "      <th>155</th>\n",
              "      <td>0</td>\n",
              "      <td>0</td>\n",
              "    </tr>\n",
              "    <tr>\n",
              "      <th>84</th>\n",
              "      <td>1</td>\n",
              "      <td>1</td>\n",
              "    </tr>\n",
              "    <tr>\n",
              "      <th>117</th>\n",
              "      <td>0</td>\n",
              "      <td>0</td>\n",
              "    </tr>\n",
              "    <tr>\n",
              "      <th>172</th>\n",
              "      <td>1</td>\n",
              "      <td>1</td>\n",
              "    </tr>\n",
              "    <tr>\n",
              "      <th>323</th>\n",
              "      <td>1</td>\n",
              "      <td>1</td>\n",
              "    </tr>\n",
              "    <tr>\n",
              "      <th>331</th>\n",
              "      <td>0</td>\n",
              "      <td>0</td>\n",
              "    </tr>\n",
              "    <tr>\n",
              "      <th>79</th>\n",
              "      <td>0</td>\n",
              "      <td>0</td>\n",
              "    </tr>\n",
              "    <tr>\n",
              "      <th>452</th>\n",
              "      <td>0</td>\n",
              "      <td>0</td>\n",
              "    </tr>\n",
              "    <tr>\n",
              "      <th>506</th>\n",
              "      <td>1</td>\n",
              "      <td>1</td>\n",
              "    </tr>\n",
              "    <tr>\n",
              "      <th>253</th>\n",
              "      <td>1</td>\n",
              "      <td>1</td>\n",
              "    </tr>\n",
              "  </tbody>\n",
              "</table>\n",
              "</div>"
            ],
            "text/plain": [
              "     Actual Label  Predicted Label\n",
              "275             1                1\n",
              "93              1                1\n",
              "6               0                0\n",
              "167             1                1\n",
              "90              0                0\n",
              "513             1                1\n",
              "362             0                0\n",
              "228             0                0\n",
              "192             1                1\n",
              "482             1                1\n",
              "218             1                1\n",
              "180             0                0\n",
              "307             0                0\n",
              "508             0                0\n",
              "10              0                0\n",
              "381             0                0\n",
              "371             0                0\n",
              "30              0                0\n",
              "494             0                0\n",
              "137             0                0\n",
              "155             0                0\n",
              "84              1                1\n",
              "117             0                0\n",
              "172             1                1\n",
              "323             1                1\n",
              "331             0                0\n",
              "79              0                0\n",
              "452             0                0\n",
              "506             1                1\n",
              "253             1                1"
            ]
          },
          "metadata": {
            "tags": []
          },
          "execution_count": 16
        }
      ]
    },
    {
      "cell_type": "markdown",
      "metadata": {
        "id": "kUJqcG7YH8ch"
      },
      "source": [
        "### Model Metrics"
      ]
    },
    {
      "cell_type": "code",
      "metadata": {
        "colab": {
          "base_uri": "https://localhost:8080/"
        },
        "id": "u857Y3Sl7pd4",
        "outputId": "b2e8f8e6-ec7f-4d0b-a87e-92987cd7aa34"
      },
      "source": [
        "print('MAE(Mean Absolute Error)= ', metrics.mean_absolute_error(y_test,y_pred))\n",
        "print('R2 Score = ', round(metrics.r2_score(y_test, y_pred), 2))\n",
        "print('Log Loss= ',metrics.log_loss(y_test, y_pred))\n",
        "print('IoU (Jaccard Score)= ',metrics.jaccard_score(y_test,y_pred))\n",
        "print('MSE(Mean Squared Error', metrics.mean_squared_error(y_test,y_pred))\n",
        "print('RMSE(Root Mean Squared Error', np.sqrt(metrics.mean_squared_error(y_test,y_pred)))\n",
        "print('MSLE(Mean Squared Log Error', metrics.mean_squared_log_error(y_test, y_pred))\n",
        "\n",
        "MAE = metrics.mean_absolute_error(y_test,y_pred)\n",
        "NAE = np.sqrt(np.sum(np.square((y_test-y_pred) - MAE))/(len(y_test) - 1))\n",
        "print('NAE(Normalised Absolute Error)= ', NAE)"
      ],
      "execution_count": null,
      "outputs": [
        {
          "output_type": "stream",
          "text": [
            "MAE(Mean Absolute Error)=  0.038461538461538464\n",
            "R2 Score =  0.85\n",
            "Log Loss=  1.3284375420378214\n",
            "IoU (Jaccard Score)=  0.9215686274509803\n",
            "MSE(Mean Squared Error 0.038461538461538464\n",
            "RMSE(Root Mean Squared Error 0.19611613513818404\n",
            "MSLE(Mean Squared Log Error 0.018478962073776976\n",
            "NAE(Normalised Absolute Error)=  0.20450490315512837\n"
          ],
          "name": "stdout"
        }
      ]
    },
    {
      "cell_type": "code",
      "metadata": {
        "colab": {
          "base_uri": "https://localhost:8080/"
        },
        "id": "yEzmmOpdFt5K",
        "outputId": "3519e16e-7914-4200-e72d-7a0e01bc643b"
      },
      "source": [
        "confusion_matrix(y_test, y_pred, labels=[1,0])\n",
        "\n",
        "#   predicted  1    0\n",
        "#   actual\n",
        "#   1          47   1\n",
        "#   0          3    53\n"
      ],
      "execution_count": null,
      "outputs": [
        {
          "output_type": "execute_result",
          "data": {
            "text/plain": [
              "array([[47,  1],\n",
              "       [ 3, 53]])"
            ]
          },
          "metadata": {
            "tags": []
          },
          "execution_count": 20
        }
      ]
    },
    {
      "cell_type": "markdown",
      "metadata": {
        "id": "apJZ0A7IUkmJ"
      },
      "source": [
        "### Validating the Model with New Data"
      ]
    },
    {
      "cell_type": "code",
      "metadata": {
        "id": "xdnUSSR8EIXx"
      },
      "source": [
        "def depressed_or_not(labels):\n",
        "  d=[]\n",
        "  for i in labels:\n",
        "    if i==1: d.append('Not Depressed')\n",
        "    elif i==0: d.append('Depressed')\n",
        "  return d  \n",
        "\n",
        "def depression_classifier(tweet):\n",
        "  predicted_label=clf.predict(new_tweets)\n",
        "  predicted_sentiment=depressed_or_not(predicted_label)\n",
        "  for t,s in zip(tweet,predicted_sentiment):\n",
        "    print('{}\\nClassified as: {} tweet\\n\\n'.format(t,s))"
      ],
      "execution_count": null,
      "outputs": []
    },
    {
      "cell_type": "code",
      "metadata": {
        "id": "FEhZlidsCsPT",
        "colab": {
          "base_uri": "https://localhost:8080/"
        },
        "outputId": "b78fec7f-7aba-469d-a6e4-f348ef00f57e"
      },
      "source": [
        "new_tweets=['''hello hk im soooo happi luv soooo much''',\n",
        "\n",
        "'''depress start counsel next monthal want happi''', \n",
        "\n",
        "'''@Rishabverma740\n",
        "Tere dukh tere he rahenge\n",
        "Phir tu isko suna\n",
        "Ya usko suna \n",
        "Kya farak padta hai\n",
        "#depressed''', \n",
        "\n",
        "'''@SaojiTadka\n",
        "Udaas rehne ki wajah to bohot hai life me..!!\n",
        "Par fookat me khush rehne ka maza hi kuch aur hai.!! #happy #Sad #Life''',\n",
        "\n",
        "'''@sidnaaz_ka\n",
        "Happy birthday Preeti di \n",
        "Lots of love and prayers! ❤️❤️☺️☺️☺️\n",
        "Hamesha khush rehna app!☺️''',\n",
        "\n",
        "'''I feel lost inside myself! #illness #lifelessons #useless #depressed \n",
        "#ignored #worthless #pathetic..\n",
        "''']\n",
        "\n",
        "print(depression_classifier(new_tweets))"
      ],
      "execution_count": null,
      "outputs": [
        {
          "output_type": "stream",
          "text": [
            "hello hk im soooo happi luv soooo much\n",
            "Classified as: Not Depressed tweet\n",
            "\n",
            "\n",
            "depress start counsel next monthal want happi\n",
            "Classified as: Not Depressed tweet\n",
            "\n",
            "\n",
            "@Rishabverma740\n",
            "Tere dukh tere he rahenge\n",
            "Phir tu isko suna\n",
            "Ya usko suna \n",
            "Kya farak padta hai\n",
            "#depressed\n",
            "Classified as: Depressed tweet\n",
            "\n",
            "\n",
            "@SaojiTadka\n",
            "Udaas rehne ki wajah to bohot hai life me..!!\n",
            "Par fookat me khush rehne ka maza hi kuch aur hai.!! #happy #Sad #Life\n",
            "Classified as: Depressed tweet\n",
            "\n",
            "\n",
            "@sidnaaz_ka\n",
            "Happy birthday Preeti di \n",
            "Lots of love and prayers! ❤️❤️☺️☺️☺️\n",
            "Hamesha khush rehna app!☺️\n",
            "Classified as: Not Depressed tweet\n",
            "\n",
            "\n",
            "I feel lost inside myself! #illness #lifelessons #useless #depressed \n",
            "#ignored #worthless #pathetic..\n",
            "\n",
            "Classified as: Depressed tweet\n",
            "\n",
            "\n",
            "None\n"
          ],
          "name": "stdout"
        }
      ]
    },
    {
      "cell_type": "markdown",
      "metadata": {
        "id": "Vv3b0WQ7Z5eh"
      },
      "source": [
        "The model works!"
      ]
    },
    {
      "cell_type": "markdown",
      "metadata": {
        "id": "0cNJF2-nPSTz"
      },
      "source": [
        "# Visual Representation of Model"
      ]
    },
    {
      "cell_type": "markdown",
      "metadata": {
        "id": "H0kNVKBdLJ_6"
      },
      "source": [
        "#### ROC curve and PRECISION-RECALL curve"
      ]
    },
    {
      "cell_type": "code",
      "metadata": {
        "colab": {
          "base_uri": "https://localhost:8080/",
          "height": 295
        },
        "id": "EY-WxUvdPm0-",
        "outputId": "4650eb70-894c-4257-d974-ae4ba4279bda"
      },
      "source": [
        "def plot_roc_curve(fpr, tpr):\n",
        "    plt.plot(fpr, tpr, color='#0077b6', label='ROC')\n",
        "    plt.plot([0, 1], [0, 1], color='red', linestyle='--')\n",
        "    plt.xlabel('False Positive Rate')\n",
        "    plt.ylabel('True Positive Rate')\n",
        "    plt.title('Receiver Operating Characteristic (ROC) Curve')\n",
        "    plt.legend()\n",
        "    plt.show()\n",
        "\n",
        "\n",
        "fpr, tpr, thresholds=roc_curve(y_test, y_pred)\n",
        "\n",
        "plot_roc_curve(fpr, tpr)"
      ],
      "execution_count": null,
      "outputs": [
        {
          "output_type": "display_data",
          "data": {
            "image/png": "[encoded data removed]",
            "text/plain": [
              "<Figure size 432x288 with 1 Axes>"
            ]
          },
          "metadata": {
            "tags": [],
            "needs_background": "light"
          }
        }
      ]
    },
    {
      "cell_type": "code",
      "metadata": {
        "colab": {
          "base_uri": "https://localhost:8080/",
          "height": 375
        },
        "id": "9hI_2ZyeUK3r",
        "outputId": "7545c2e7-9ffd-492b-831a-f04b56533d2e"
      },
      "source": [
        "average_precision = average_precision_score(y_test, y_pred)\n",
        "print('Average precision-recall score: {0:0.2f}'.format(\n",
        "      average_precision))\n",
        "\n",
        "disp = plot_precision_recall_curve(clf,x_test,y_test)\n",
        "print()\n",
        "disp.ax_.set_title('\\nPrecision-Recall curve: '\n",
        "                   'AP={0:0.2f}'.format(average_precision), size=18, pad='10')"
      ],
      "execution_count": null,
      "outputs": [
        {
          "output_type": "stream",
          "text": [
            "Average precision-recall score: 0.93\n",
            "\n"
          ],
          "name": "stdout"
        },
        {
          "output_type": "execute_result",
          "data": {
            "text/plain": [
              "Text(0.5, 1.0, '\\nPrecision-Recall curve: AP=0.93')"
            ]
          },
          "metadata": {
            "tags": []
          },
          "execution_count": 38
        },
        {
          "output_type": "display_data",
          "data": {
            "image/png": "[encoded data removed]",
            "text/plain": [
              "<Figure size 432x288 with 1 Axes>"
            ]
          },
          "metadata": {
            "tags": [],
            "needs_background": "light"
          }
        }
      ]
    },
    {
      "cell_type": "code",
      "metadata": {
        "id": "tIlMjpi2cf93"
      },
      "source": [
        ""
      ],
      "execution_count": null,
      "outputs": []
    }
  ]
}